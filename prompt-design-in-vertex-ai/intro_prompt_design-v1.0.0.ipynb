{
 "cells": [
  {
   "cell_type": "code",
   "execution_count": 1,
   "metadata": {
    "id": "ur8xi4C7S06n",
    "tags": []
   },
   "outputs": [],
   "source": [
    "# Copyright 2024 Google LLC\n",
    "#\n",
    "# Licensed under the Apache License, Version 2.0 (the \"License\");\n",
    "# you may not use this file except in compliance with the License.\n",
    "# You may obtain a copy of the License at\n",
    "#\n",
    "#     https://www.apache.org/licenses/LICENSE-2.0\n",
    "#\n",
    "# Unless required by applicable law or agreed to in writing, software\n",
    "# distributed under the License is distributed on an \"AS IS\" BASIS,\n",
    "# WITHOUT WARRANTIES OR CONDITIONS OF ANY KIND, either express or implied.\n",
    "# See the License for the specific language governing permissions and\n",
    "# limitations under the License."
   ]
  },
  {
   "cell_type": "markdown",
   "metadata": {
    "id": "JAPoU8Sm5E6e"
   },
   "source": [
    "# Prompt Design - Best Practices\n",
    "\n",
    "<table align=\"left\">\n",
    "  <td style=\"text-align: center\">\n",
    "    <a href=\"https://colab.research.google.com/github/GoogleCloudPlatform/generative-ai/blob/main/gemini/prompts/intro_prompt_design.ipynb\">\n",
    "      <img src=\"https://cloud.google.com/ml-engine/images/colab-logo-32px.png\" alt=\"Google Colaboratory logo\"><br> Open in Colab\n",
    "    </a>\n",
    "  </td>\n",
    "  <td style=\"text-align: center\">\n",
    "    <a href=\"https://console.cloud.google.com/vertex-ai/colab/import/https:%2F%2Fraw.githubusercontent.com%2FGoogleCloudPlatform%2Fgenerative-ai%2Fmain%2Fgemini%2Fprompts%2Fintro_prompt_design.ipynb\">\n",
    "      <img width=\"32px\" src=\"https://lh3.googleusercontent.com/JmcxdQi-qOpctIvWKgPtrzZdJJK-J3sWE1RsfjZNwshCFgE_9fULcNpuXYTilIR2hjwN\" alt=\"Google Cloud Colab Enterprise logo\"><br> Open in Colab Enterprise\n",
    "    </a>\n",
    "  </td>    \n",
    "  <td style=\"text-align: center\">\n",
    "    <a href=\"https://console.cloud.google.com/vertex-ai/workbench/deploy-notebook?download_url=https://raw.githubusercontent.com/GoogleCloudPlatform/generative-ai/main/gemini/prompts/intro_prompt_design.ipynb\">\n",
    "      <img src=\"https://lh3.googleusercontent.com/UiNooY4LUgW_oTvpsNhPpQzsstV5W8F7rYgxgGBD85cWJoLmrOzhVs_ksK_vgx40SHs7jCqkTkCk=e14-rj-sc0xffffff-h130-w32\" alt=\"Vertex AI logo\"><br> Open in Workbench\n",
    "    </a>\n",
    "  </td>\n",
    "  <td style=\"text-align: center\">\n",
    "    <a href=\"https://github.com/GoogleCloudPlatform/generative-ai/blob/main/gemini/prompts/intro_prompt_design.ipynb\">\n",
    "      <img src=\"https://cloud.google.com/ml-engine/images/github-logo-32px.png\" alt=\"GitHub logo\"><br> View on GitHub\n",
    "    </a>\n",
    "  </td>\n",
    "</table>"
   ]
  },
  {
   "cell_type": "markdown",
   "metadata": {
    "id": "84f0f73a0f76"
   },
   "source": [
    "| | | |\n",
    "|-|-|-|\n",
    "|Author(s) | [Polong Lin](https://github.com/polong-lin) | [Karl Weinmeister](https://github.com/kweinmeister)|"
   ]
  },
  {
   "cell_type": "markdown",
   "metadata": {
    "id": "tvgnzT1CKxrO"
   },
   "source": [
    "## Overview\n",
    "\n",
    "This notebook covers the essentials of prompt engineering, including some best practices.\n",
    "\n",
    "Learn more about prompt design in the [official documentation](https://cloud.google.com/vertex-ai/docs/generative-ai/text/text-overview).\n",
    "\n",
    "In this notebook, you learn best practices around prompt engineering -- how to design prompts to improve the quality of your responses. \n",
    "\n",
    "This notebook covers the following best practices for prompt engineering:\n",
    "\n",
    "- Be concise\n",
    "- Be specific and well-defined\n",
    "- Ask one task at a time\n",
    "- Turn generative tasks into classification tasks\n",
    "- Improve response quality by including examples"
   ]
  },
  {
   "cell_type": "markdown",
   "metadata": {
    "id": "61RBz8LLbxCR"
   },
   "source": [
    "## Getting Started"
   ]
  },
  {
   "cell_type": "markdown",
   "metadata": {
    "id": "No17Cw5hgx12"
   },
   "source": [
    "### Install Vertex AI SDK and other required packages\n"
   ]
  },
  {
   "cell_type": "code",
   "execution_count": 2,
   "metadata": {
    "id": "tFy3H3aPgx12",
    "tags": []
   },
   "outputs": [
    {
     "name": "stdout",
     "output_type": "stream",
     "text": [
      "\u001b[33m  WARNING: The script tb-gcp-uploader is installed in '/home/jupyter/.local/bin' which is not on PATH.\n",
      "  Consider adding this directory to PATH or, if you prefer to suppress this warning, use --no-warn-script-location.\u001b[0m\u001b[33m\n",
      "\u001b[0mNote: you may need to restart the kernel to use updated packages.\n"
     ]
    }
   ],
   "source": [
    "%pip install --upgrade --user --quiet google-cloud-aiplatform"
   ]
  },
  {
   "cell_type": "markdown",
   "metadata": {
    "id": "R5Xep4W9lq-Z"
   },
   "source": [
    "### Restart runtime\n",
    "\n",
    "To use the newly installed packages in this Jupyter runtime, you must restart the runtime. You can do this by running the cell below, which will restart the current kernel."
   ]
  },
  {
   "cell_type": "code",
   "execution_count": 4,
   "metadata": {
    "id": "XRvKdaPDTznN",
    "tags": []
   },
   "outputs": [
    {
     "data": {
      "text/plain": [
       "{'status': 'ok', 'restart': True}"
      ]
     },
     "execution_count": 4,
     "metadata": {},
     "output_type": "execute_result"
    }
   ],
   "source": [
    "import IPython\n",
    "\n",
    "app = IPython.Application.instance()\n",
    "app.kernel.do_shutdown(True)"
   ]
  },
  {
   "cell_type": "markdown",
   "metadata": {
    "id": "SbmM4z7FOBpM"
   },
   "source": [
    "<div class=\"alert alert-block alert-warning\">\n",
    "<b>⚠️ The kernel is going to restart. Please wait until it is finished before continuing to the next step. ⚠️</b>\n",
    "</div>\n"
   ]
  },
  {
   "cell_type": "markdown",
   "metadata": {
    "id": "dmWOrTJ3gx13"
   },
   "source": [
    "### Authenticate your notebook environment (Colab only)\n",
    "\n",
    "Authenticate your environment on Google Colab.\n"
   ]
  },
  {
   "cell_type": "code",
   "execution_count": 2,
   "metadata": {
    "id": "NyKGtVQjgx13",
    "tags": []
   },
   "outputs": [],
   "source": [
    "import sys\n",
    "\n",
    "if \"google.colab\" in sys.modules:\n",
    "    from google.colab import auth\n",
    "\n",
    "    auth.authenticate_user()"
   ]
  },
  {
   "cell_type": "markdown",
   "metadata": {
    "id": "DF4l8DTdWgPY"
   },
   "source": [
    "### Set Google Cloud project information and initialize Vertex AI SDK\n",
    "\n",
    "To get started using Vertex AI, you must have an existing Google Cloud project and [enable the Vertex AI API](https://console.cloud.google.com/flows/enableapi?apiid=aiplatform.googleapis.com).\n",
    "\n",
    "Learn more about [setting up a project and a development environment](https://cloud.google.com/vertex-ai/docs/start/cloud-environment)."
   ]
  },
  {
   "cell_type": "code",
   "execution_count": 3,
   "metadata": {
    "id": "Nqwi-5ufWp_B",
    "tags": []
   },
   "outputs": [],
   "source": [
    "PROJECT_ID = \"qwiklabs-gcp-04-41dcbc3a9952\"  # @param {type:\"string\"}\n",
    "LOCATION = \"us-central1\"  # @param {type:\"string\"}\n",
    "\n",
    "import vertexai\n",
    "\n",
    "vertexai.init(project=PROJECT_ID, location=LOCATION)"
   ]
  },
  {
   "cell_type": "code",
   "execution_count": 4,
   "metadata": {
    "id": "QqRWdPGmW3NJ",
    "tags": []
   },
   "outputs": [],
   "source": [
    "from vertexai.generative_models import GenerationConfig, GenerativeModel\n",
    "import time"
   ]
  },
  {
   "cell_type": "markdown",
   "metadata": {
    "id": "OnFPpCRtXRl4"
   },
   "source": [
    "### Load model"
   ]
  },
  {
   "cell_type": "code",
   "execution_count": 5,
   "metadata": {
    "id": "IQYu_9SvXQah",
    "tags": []
   },
   "outputs": [],
   "source": [
    "model = GenerativeModel(\"gemini-1.5-flash\")"
   ]
  },
  {
   "cell_type": "code",
   "execution_count": 6,
   "metadata": {
    "tags": []
   },
   "outputs": [],
   "source": [
    "import time\n",
    "\n",
    "def call_gemini(prompt, generation_config=GenerationConfig(temperature=1.0)):\n",
    "    wait_time = 1\n",
    "    while True:\n",
    "        try:\n",
    "            response = model.generate_content(prompt, generation_config=generation_config).text\n",
    "            return response\n",
    "            break  # Exit the loop if successful\n",
    "        except Exception as e:  # Replace with the actual exception type\n",
    "            time.sleep(wait_time)\n",
    "            wait_time *= 2  # Double the wait time\n",
    "\n",
    "def send_message_gemini(model, prompt):    \n",
    "    wait_time = 1\n",
    "    while True:\n",
    "        try:\n",
    "            response = model.send_message(prompt).text\n",
    "            return response\n",
    "            break  # Exit the loop if successful\n",
    "        except Exception as e:  # Replace with the actual exception type\n",
    "            time.sleep(wait_time)\n",
    "            wait_time *= 2  # Double the wait time"
   ]
  },
  {
   "cell_type": "markdown",
   "metadata": {
    "id": "cVOtUNJ5X0PY"
   },
   "source": [
    "## Prompt engineering best practices"
   ]
  },
  {
   "cell_type": "markdown",
   "metadata": {
    "id": "uv_e0fEPX60q"
   },
   "source": [
    "Prompt engineering is all about how to design your prompts so that the response is what you were indeed hoping to see.\n",
    "\n",
    "The idea of using \"unfancy\" prompts is to minimize the noise in your prompt to reduce the possibility of the LLM misinterpreting the intent of the prompt. Below are a few guidelines on how to engineer \"unfancy\" prompts.\n",
    "\n",
    "In this section, you'll cover the following best practices when engineering prompts:\n",
    "\n",
    "* Be concise\n",
    "* Be specific, and well-defined\n",
    "* Ask one task at a time\n",
    "* Improve response quality by including examples\n",
    "* Turn generative tasks to classification tasks to improve safety"
   ]
  },
  {
   "cell_type": "markdown",
   "metadata": {
    "id": "0pY4XX0OX9_Y"
   },
   "source": [
    "### Be concise"
   ]
  },
  {
   "cell_type": "markdown",
   "metadata": {
    "id": "xlRpxyxGYA1K"
   },
   "source": [
    "🛑 Not recommended. The prompt below is unnecessarily verbose."
   ]
  },
  {
   "cell_type": "code",
   "execution_count": 7,
   "metadata": {
    "id": "YKV4G-CfXdbi",
    "tags": []
   },
   "outputs": [
    {
     "name": "stdout",
     "output_type": "stream",
     "text": [
      "Here are some names for a flower shop specializing in dried flowers:\n",
      "\n",
      "**Whimsical & Romantic:**\n",
      "\n",
      "* Everlasting Blooms\n",
      "* The Dried Flower Garden\n",
      "* Bloom & Preserve\n",
      "* Whispers of Wildflowers\n",
      "* The Paper Petal\n",
      "* Eternal Blooms\n",
      "* Dried Dreams\n",
      "\n",
      "**Modern & Minimalist:**\n",
      "\n",
      "* Botanica\n",
      "* The Bloomery\n",
      "* Bloom & Co.\n",
      "* The Dried Flower Studio\n",
      "* Wild & Free\n",
      "* Timeless Blooms\n",
      "* The Petal Project\n",
      "\n",
      "**Unique & Playful:**\n",
      "\n",
      "* The Flower Apothecary\n",
      "* The Dusty Bloom\n",
      "* Bloom & Dust\n",
      "* The Paper Garden\n",
      "* The Petal Press\n",
      "* The Dried Flower Collective\n",
      "* Bloom Forever\n",
      "\n",
      "**Consider these factors when choosing a name:**\n",
      "\n",
      "* **Target Audience:** Who are you trying to reach?\n",
      "* **Brand Personality:** What feeling do you want your shop to evoke?\n",
      "* **Availability:** Check if the name is available as a domain name and for social media handles.\n",
      "* **Memorability:**  Is the name easy to remember and pronounce?\n",
      "\n",
      "**Bonus Tip:** You can also incorporate your city or location into the name for a more personalized feel. For example, \"The Dusty Bloom of [City Name]\". \n",
      "\n"
     ]
    }
   ],
   "source": [
    "prompt = \"What do you think could be a good name for a flower shop that specializes in selling bouquets of dried flowers more than fresh flowers?\"\n",
    "\n",
    "print(call_gemini(prompt))"
   ]
  },
  {
   "cell_type": "markdown",
   "metadata": {
    "id": "YrJexRHJYnmC"
   },
   "source": [
    "✅ Recommended. The prompt below is to the point and concise."
   ]
  },
  {
   "cell_type": "code",
   "execution_count": 8,
   "metadata": {
    "id": "VHetn9lCYrXB",
    "tags": []
   },
   "outputs": [
    {
     "name": "stdout",
     "output_type": "stream",
     "text": [
      "## Flower Shop Names for Dried Bouquets:\n",
      "\n",
      "**Short & Sweet:**\n",
      "\n",
      "* Bloom & Dry\n",
      "* Everlasting Bloom\n",
      "* Dried & Delicate\n",
      "* The Dusty Bouquet\n",
      "* Everbloom\n",
      "\n",
      "**Descriptive & Evocative:**\n",
      "\n",
      "* The Dried Flower Studio\n",
      "* Whispers of Wildflowers\n",
      "* Botanical Treasures\n",
      "* The Timeless Bloom\n",
      "* Forever in Bloom\n",
      "\n",
      "**Unique & Playful:**\n",
      "\n",
      "* Petal & Paper\n",
      "* Dusty Rose Co.\n",
      "* The Flower Whisperer\n",
      "* The Botanical Alchemist\n",
      "* Sun Kissed Blooms\n",
      "\n",
      "**Location Inspired:**\n",
      "\n",
      "* [Your City] Dried Flowers\n",
      "* [Your Neighborhood] Blooms\n",
      "* The [Your Street Name] Florist\n",
      "\n",
      "**Bonus:**\n",
      "\n",
      "* Consider using a name that reflects your brand's aesthetic, whether it's rustic, modern, or romantic.\n",
      "* Check if the name is available as a domain name and social media handle. \n",
      "\n",
      "**Pro Tip:**\n",
      "\n",
      "* Try combining words from different categories to create a unique and memorable name. For example, \"Everlasting Whispers\" or \"The Dusty Flower Studio.\" \n",
      "\n"
     ]
    }
   ],
   "source": [
    "prompt = \"Suggest a name for a flower shop that sells bouquets of dried flowers\"\n",
    "\n",
    "print(call_gemini(prompt))"
   ]
  },
  {
   "cell_type": "markdown",
   "metadata": {
    "id": "eXTAvdOHY0OC"
   },
   "source": [
    "### Be specific, and well-defined"
   ]
  },
  {
   "cell_type": "markdown",
   "metadata": {
    "id": "FTH4GEIgY1dp"
   },
   "source": [
    "Suppose that you want to brainstorm creative ways to describe Earth."
   ]
  },
  {
   "cell_type": "markdown",
   "metadata": {
    "id": "o5BmXBiGY4KC"
   },
   "source": [
    "🛑 The prompt below might be a bit too generic (which is certainly OK if you'd like to ask a generic question!)"
   ]
  },
  {
   "cell_type": "code",
   "execution_count": 9,
   "metadata": {
    "id": "eHBaMvv7Y6mR",
    "tags": []
   },
   "outputs": [
    {
     "name": "stdout",
     "output_type": "stream",
     "text": [
      "## Earth: Our Home Planet\n",
      "\n",
      "Earth is the third planet from the Sun and the only known planet to harbor life. It's a vibrant, dynamic world with a diverse range of ecosystems, from the icy poles to the scorching deserts, lush forests to vast oceans.\n",
      "\n",
      "**Here are some key facts about Earth:**\n",
      "\n",
      "* **Size and Shape:** Earth is an oblate spheroid, meaning it's slightly flattened at the poles and bulging at the equator. Its diameter is approximately 12,742 kilometers.\n",
      "* **Atmosphere:** Our planet is surrounded by a protective atmosphere composed mostly of nitrogen (78%) and oxygen (21%). This atmosphere traps heat, creating the greenhouse effect and allowing for life to thrive.\n",
      "* **Surface:** Earth's surface is divided into landmasses (continents) and oceans. About 71% of the Earth's surface is covered by water.\n",
      "* **Geology:** The Earth's crust is divided into tectonic plates that constantly move and interact, causing earthquakes, volcanoes, and mountain formation.\n",
      "* **Climate:** Earth experiences a wide range of climates, from tropical rainforests to arid deserts, due to differences in latitude, altitude, and proximity to oceans.\n",
      "* **Life:** Earth is teeming with life, from microscopic bacteria to giant whales. The biosphere, the zone where life exists, encompasses all ecosystems on the planet.\n",
      "* **Moon:** Earth has a single natural satellite, the Moon, which plays a significant role in stabilizing the planet's rotation and influencing tides.\n",
      "\n",
      "**Earth is a complex and interconnected system:**\n",
      "\n",
      "* **Climate Change:** Human activities are causing significant changes to the Earth's climate, resulting in rising temperatures, sea levels, and extreme weather events.\n",
      "* **Biodiversity Loss:**  Human activities are also leading to a decline in biodiversity, threatening the stability of ecosystems and the services they provide.\n",
      "* **Resource Depletion:** Earth's resources are being depleted at an unsustainable rate, requiring us to find more sustainable ways of living.\n",
      "\n",
      "**Understanding Earth is crucial for our future:**\n",
      "\n",
      "* **Conservation:** We need to protect Earth's ecosystems and resources for future generations.\n",
      "* **Sustainability:** We must find ways to live sustainably, minimizing our impact on the planet.\n",
      "* **Exploration:** Continued exploration and research are essential to learn more about Earth and the universe.\n",
      "\n",
      "Earth is a remarkable planet, and understanding its complexities is crucial for ensuring its future and the future of life on it. \n",
      "\n"
     ]
    }
   ],
   "source": [
    "prompt = \"Tell me about Earth\"\n",
    "\n",
    "print(call_gemini(prompt))"
   ]
  },
  {
   "cell_type": "markdown",
   "metadata": {
    "id": "4iyvEbteZnFL"
   },
   "source": [
    "✅ Recommended. The prompt below is specific and well-defined."
   ]
  },
  {
   "cell_type": "code",
   "execution_count": 10,
   "metadata": {
    "id": "JQ80z8urZnne",
    "tags": []
   },
   "outputs": [
    {
     "name": "stdout",
     "output_type": "stream",
     "text": [
      "## What Makes Earth Unique:\n",
      "\n",
      "**1. Liquid Water:** Earth is the only known planet in our solar system with abundant liquid water on its surface. This is crucial for life as we know it.\n",
      "\n",
      "**2. Plate Tectonics:** Earth's crust is broken into plates that move, causing earthquakes, volcanoes, and mountain ranges. This dynamic system helps regulate Earth's climate and creates diverse environments.\n",
      "\n",
      "**3. Atmosphere:** Earth's atmosphere is a complex mixture of gases, primarily nitrogen and oxygen. This atmosphere provides protection from harmful solar radiation, regulates temperature, and allows for weather patterns.\n",
      "\n",
      "**4. Magnetic Field:** Earth's molten core generates a powerful magnetic field that acts as a shield, deflecting charged particles from the Sun (solar wind) and protecting life from damaging radiation.\n",
      "\n",
      "**5. Distance from the Sun:** Earth is located in the \"Goldilocks zone\" - the perfect distance from the Sun for liquid water to exist, making it habitable.\n",
      "\n",
      "**6. Moon:** Earth's moon is unusually large compared to other planets' moons. It stabilizes Earth's axial tilt, leading to predictable seasons. It also influences tides.\n",
      "\n",
      "**7. Biodiversity:** Earth is home to an incredible variety of life forms, from microscopic bacteria to giant whales. This biodiversity is a result of complex interactions between organisms and their environment.\n",
      "\n",
      "**8. Life itself:** While we haven't discovered definitive proof of life elsewhere, Earth is the only known planet with life as we know it. This makes Earth unique in the universe as far as we currently know.\n",
      "\n",
      "**9. Oxygen-rich atmosphere:**  Earth's atmosphere is primarily composed of nitrogen and oxygen, with oxygen being a crucial element for most life forms on the planet.\n",
      "\n",
      "**10. Active geology:** Earth has a constantly evolving surface due to plate tectonics and volcanic activity, which creates a diverse range of environments and resources.\n",
      "\n",
      "**11. Complex climate system:** Earth has a complex and dynamic climate system with intricate interactions between the atmosphere, oceans, and land. This results in a wide range of weather patterns and climate zones.\n",
      "\n",
      "**12. The presence of carbon:** Earth's unique composition, including its carbon cycle, has played a significant role in creating conditions suitable for life.\n",
      "\n",
      "These are just some of the reasons that make Earth unique and special. While we continue to explore the universe, Earth remains the only known planet that can harbor life as we know it.\n"
     ]
    }
   ],
   "source": [
    "prompt = \"Generate a list of ways that makes Earth unique compared to other planets\"\n",
    "\n",
    "print(call_gemini(prompt))"
   ]
  },
  {
   "cell_type": "markdown",
   "metadata": {
    "id": "R5kmfZYHZsJ7"
   },
   "source": [
    "### Ask one task at a time"
   ]
  },
  {
   "cell_type": "markdown",
   "metadata": {
    "id": "rsAezxeYZuUN"
   },
   "source": [
    "🛑 Not recommended. The prompt below has two parts to the question that could be asked separately."
   ]
  },
  {
   "cell_type": "code",
   "execution_count": 11,
   "metadata": {
    "id": "ElywPXpuZtWf",
    "tags": []
   },
   "outputs": [
    {
     "name": "stdout",
     "output_type": "stream",
     "text": [
      "Here's the breakdown of the best water boiling method and the science behind the blue sky:\n",
      "\n",
      "**Boiling Water**\n",
      "\n",
      "* **Best Method: Using a kettle or pot on a stovetop.** This is the most efficient and reliable method.\n",
      "* **Why:**\n",
      "    * **Control:** You can adjust the heat and monitor the water's progress easily.\n",
      "    * **Speed:** Stoves provide direct heat, bringing water to a boil quickly.\n",
      "    * **Safety:** Most kettles and pots are designed for safe boiling and have safety features.\n",
      "\n",
      "**Other Methods**\n",
      "\n",
      "* **Microwave:** Can be fast but doesn't always distribute heat evenly, potentially leading to hot spots.\n",
      "* **Electric Kettle:** Convenient and fast, but less versatile for other cooking tasks. \n",
      "\n",
      "**Why the Sky is Blue**\n",
      "\n",
      "The blue color of the sky is a result of a phenomenon called **Rayleigh scattering**. Here's the simplified explanation:\n",
      "\n",
      "1. **Sunlight is made up of all colors of the rainbow.** \n",
      "2. **Sunlight enters the atmosphere and interacts with tiny particles of air.** These particles are much smaller than the wavelength of visible light.\n",
      "3. **Short wavelengths of light (like blue and violet) scatter more easily than longer wavelengths (like red and orange).** This is because shorter wavelengths are more easily deflected by the tiny particles.\n",
      "4. **The scattered blue light reaches our eyes from all directions.** This is why the sky appears blue.\n",
      "\n",
      "**Important Note:** At sunrise and sunset, we see red and orange hues because the sunlight has to travel through more atmosphere to reach our eyes. This means more blue light is scattered away, leaving the longer wavelengths to be seen. \n",
      "\n"
     ]
    }
   ],
   "source": [
    "prompt = \"What's the best method of boiling water and why is the sky blue?\"\n",
    "\n",
    "print(call_gemini(prompt))"
   ]
  },
  {
   "cell_type": "markdown",
   "metadata": {
    "id": "ejzahazBZ8vk"
   },
   "source": [
    "✅ Recommended. The prompts below asks one task a time."
   ]
  },
  {
   "cell_type": "code",
   "execution_count": 12,
   "metadata": {
    "id": "C5ckp2F0Z_Ba",
    "tags": []
   },
   "outputs": [
    {
     "name": "stdout",
     "output_type": "stream",
     "text": [
      "The \"best\" method of boiling water depends on your needs and resources. Here's a breakdown of the most common options:\n",
      "\n",
      "**For Speed and Simplicity:**\n",
      "\n",
      "* **Electric Kettle:** This is the fastest and easiest method. Simply fill the kettle, plug it in, and wait for it to boil.  \n",
      "* **Microwave:**  This is quick and convenient for small amounts of water. Be careful, as some microwaves don't have a boil setting and the water can overheat and erupt when you try to pour it. \n",
      "\n",
      "**For Stovetop Boiling:**\n",
      "\n",
      "* **Pot on the Stove:**  This is the classic method. Choose a pot appropriate for the amount of water you need and heat it on a stovetop burner.  \n",
      "\n",
      "**Factors to Consider:**\n",
      "\n",
      "* **Amount of Water:** For small quantities, a microwave or electric kettle is best. For larger amounts, a pot on the stove is more efficient.\n",
      "* **Speed:** Electric kettles are the fastest, followed by microwaves and then pots on the stove.\n",
      "* **Energy Efficiency:** Electric kettles are generally the most energy efficient, followed by microwaves and then pots on the stove.\n",
      "* **Safety:** Be careful when using microwaves to boil water, and always use a pot with a lid when boiling water on the stove.\n",
      "\n",
      "**Tips for Boiling Water:**\n",
      "\n",
      "* **Use filtered water:** Filtered water tastes better and is healthier to drink.\n",
      "* **Don't overfill the kettle or pot:** Leave some space at the top to prevent spills.\n",
      "* **Don't walk away from the stove:** Keep an eye on the water while it's boiling.\n",
      "* **Turn off the heat source once the water boils:**  No need to keep it boiling longer.\n",
      "\n",
      "Ultimately, the best method for you will depend on your personal preferences and circumstances.  \n",
      "\n"
     ]
    }
   ],
   "source": [
    "prompt = \"What's the best method of boiling water?\"\n",
    "\n",
    "print(call_gemini(prompt))"
   ]
  },
  {
   "cell_type": "code",
   "execution_count": 14,
   "metadata": {
    "id": "KwUzhud4aA89",
    "tags": []
   },
   "outputs": [
    {
     "name": "stdout",
     "output_type": "stream",
     "text": [
      "The sky appears blue due to a phenomenon called **Rayleigh scattering**. Here's how it works:\n",
      "\n",
      "* **Sunlight is a mixture of colors:** White sunlight is actually a combination of all the colors of the rainbow.\n",
      "* **Scattering by molecules:** When sunlight enters Earth's atmosphere, it interacts with tiny gas molecules like nitrogen and oxygen. These molecules are much smaller than the wavelengths of visible light.\n",
      "* **Rayleigh scattering:**  These small molecules scatter the shorter wavelengths of light (blue and violet) much more strongly than the longer wavelengths (red and orange). This is because shorter wavelengths interact more with the molecules.\n",
      "* **More blue light reaches our eyes:** As a result, blue light is scattered in all directions, while the longer wavelengths pass through the atmosphere with less scattering. This scattered blue light is what we see as the blue sky.\n",
      "\n",
      "**Why the sky isn't violet:** Even though violet light is scattered even more strongly than blue, our eyes are more sensitive to blue light. This is why the sky appears blue rather than violet. \n",
      "\n",
      "**Other factors affecting sky color:**\n",
      "\n",
      "* **Time of day:** The sky appears redder at sunrise and sunset because sunlight has to travel through more of the atmosphere, scattering more blue light away, leaving more of the longer wavelengths to reach our eyes.\n",
      "* **Clouds:** Clouds are white because they are made of water droplets that are much larger than the wavelengths of light, so they scatter all wavelengths of light equally. \n",
      "* **Pollution:** Pollution can also affect the color of the sky.  For example, smog can cause the sky to appear hazy or even reddish-brown. \n",
      "\n"
     ]
    }
   ],
   "source": [
    "prompt = \"Why is the sky blue?\"\n",
    "\n",
    "print(call_gemini(prompt))"
   ]
  },
  {
   "cell_type": "markdown",
   "metadata": {
    "id": "PJIL2RTQaGcT"
   },
   "source": [
    "### Watch out for hallucinations"
   ]
  },
  {
   "cell_type": "markdown",
   "metadata": {
    "id": "8Y8kYxrSaHE9"
   },
   "source": [
    "Although LLMs have been trained on a large amount of data, they can generate text containing statements not grounded in truth or reality; these responses from the LLM are often referred to as \"hallucinations\" due to their limited memorization capabilities. Note that simply prompting the LLM to provide a citation isn't a fix to this problem, as there are instances of LLMs providing false or inaccurate citations. Dealing with hallucinations is a fundamental challenge of LLMs and an ongoing research area, so it is important to be cognizant that LLMs may seem to give you confident, correct-sounding statements that are in fact incorrect.\n",
    "\n",
    "Note that if you intend to use LLMs for the creative use cases, hallucinating could actually be quite useful."
   ]
  },
  {
   "cell_type": "markdown",
   "metadata": {
    "id": "8NY5nAGeaJYS"
   },
   "source": [
    "Try the prompt like the one below repeatedly. We set the temperature to 1.0 so that it takes more risks in its choices. It's possible that it may provide an inaccurate, but confident answer."
   ]
  },
  {
   "cell_type": "code",
   "execution_count": 15,
   "metadata": {
    "id": "QALPjEILaM62",
    "tags": []
   },
   "outputs": [
    {
     "name": "stdout",
     "output_type": "stream",
     "text": [
      "I do not have access to real-time information, including the current date. To know what day it is today, please check a calendar or your device's date settings. \n",
      "\n"
     ]
    }
   ],
   "source": [
    "generation_config = GenerationConfig(temperature=1.0)\n",
    "\n",
    "prompt = \"What day is it today?\"\n",
    "\n",
    "print(call_gemini(prompt, generation_config))"
   ]
  },
  {
   "cell_type": "markdown",
   "metadata": {
    "id": "BRkwzbgRbhKt"
   },
   "source": [
    "Since LLMs do not have access to real-time information without further integrations, you may have noticed it hallucinates what day it is today in some of the outputs."
   ]
  },
  {
   "cell_type": "markdown",
   "metadata": {
    "id": "3c811e310d02"
   },
   "source": [
    "### Using system instructions to guardrail the model from irrelevant responses\n",
    "\n",
    "How can we attempt to reduce the chances of irrelevant responses and hallucinations?\n",
    "\n",
    "One way is to provide the LLM with [system instructions](https://cloud.google.com/vertex-ai/generative-ai/docs/multimodal/send-chat-prompts-gemini#system-instructions).\n",
    "\n",
    "Let's see how system instructions works and how you can use them to reduce hallucinations or irrelevant questions for a travel chatbot.\n",
    "\n",
    "Suppose we ask a simple question about one of Italy's most famous tourist spots."
   ]
  },
  {
   "cell_type": "code",
   "execution_count": 16,
   "metadata": {
    "id": "rB6zJU76biFK",
    "tags": []
   },
   "outputs": [
    {
     "name": "stdout",
     "output_type": "stream",
     "text": [
      "Milan is a fantastic city for sightseeing! To give you the best recommendation, could you tell me a little more about what you're interested in? \n",
      "\n",
      "For example:\n",
      "\n",
      "* **What kind of sights are you looking for?**  (Historical landmarks, art museums, modern architecture, etc.)\n",
      "* **How much time do you have?** (A quick visit, a day trip, or longer?)\n",
      "* **What is your budget?** (Free attractions, paid entry, etc.) \n",
      "\n",
      "Once I know a bit more about your preferences, I can give you some tailored suggestions for the best sightseeing spots in Milan. \n",
      "\n"
     ]
    }
   ],
   "source": [
    "model_travel = GenerativeModel(\n",
    "    model_name=\"gemini-1.5-flash\",\n",
    "    system_instruction=[\n",
    "        \"Hello! You are an AI chatbot for a travel web site.\",\n",
    "        \"Your mission is to provide helpful queries for travelers.\",\n",
    "        \"Remember that before you answer a question, you must check to see if it complies with your mission.\",\n",
    "        \"If not, you can say, Sorry I can't answer that question.\",\n",
    "    ],\n",
    ")\n",
    "\n",
    "chat = model_travel.start_chat()\n",
    "\n",
    "prompt = \"What is the best place for sightseeing in Milan, Italy?\"\n",
    "\n",
    "print(send_message_gemini(chat, prompt))"
   ]
  },
  {
   "cell_type": "markdown",
   "metadata": {
    "id": "WZa-Qcf9cF4A"
   },
   "source": [
    "Now let us pretend to be a user asks the chatbot a question that is unrelated to travel."
   ]
  },
  {
   "cell_type": "code",
   "execution_count": 17,
   "metadata": {
    "id": "AZKBIDr2cGnu",
    "tags": []
   },
   "outputs": [
    {
     "name": "stdout",
     "output_type": "stream",
     "text": [
      "Sorry, I can't answer that question. I'm designed to help travelers with their trip planning, and that includes things like finding sights, attractions, and restaurants. I can't help you decide what to eat for dinner, but I can help you find great restaurants in Milan! \n",
      "\n",
      "Do you have any preferences for your dinner?  (Type of cuisine, budget, location, etc.) \n",
      "\n"
     ]
    }
   ],
   "source": [
    "prompt = \"What's for dinner?\"\n",
    "\n",
    "print(send_message_gemini(chat, prompt))"
   ]
  },
  {
   "cell_type": "markdown",
   "metadata": {
    "id": "JiUYIhwpctCy"
   },
   "source": [
    "You can see that this way, a guardrail in the prompt prevented the chatbot from veering off course."
   ]
  },
  {
   "cell_type": "markdown",
   "metadata": {
    "id": "ZuuDhA37cvmP"
   },
   "source": [
    "### Turn generative tasks into classification tasks to reduce output variability"
   ]
  },
  {
   "cell_type": "markdown",
   "metadata": {
    "id": "kUCUrsUzczmb"
   },
   "source": [
    "#### Generative tasks lead to higher output variability"
   ]
  },
  {
   "cell_type": "markdown",
   "metadata": {
    "id": "a1xASHAkc46n"
   },
   "source": [
    "The prompt below results in an open-ended response, useful for brainstorming, but response is highly variable."
   ]
  },
  {
   "cell_type": "code",
   "execution_count": 18,
   "metadata": {
    "id": "nPfXQWIacwRf",
    "tags": []
   },
   "outputs": [
    {
     "name": "stdout",
     "output_type": "stream",
     "text": [
      "## Programming Activities for High School Students:\n",
      "\n",
      "Here are some fun and engaging programming activities tailored for high school students, ranging from beginner to more advanced:\n",
      "\n",
      "**Beginner:**\n",
      "\n",
      "* **Build a simple text-based game:** Choose a classic game like \"Hangman\" or \"Rock, Paper, Scissors\" and code it using a language like Python. This helps understand basic programming concepts like variables, loops, and conditional statements.\n",
      "* **Create a website with HTML, CSS, and JavaScript:** Design a simple website showcasing your interests or a project you're passionate about. This introduces you to web development fundamentals and provides visual results.\n",
      "* **Develop a mobile app using MIT App Inventor:** This drag-and-drop interface allows you to create simple Android apps without complex coding. You can learn about app design, user interaction, and basic programming logic.\n",
      "* **Learn the basics of data science with Python and libraries like NumPy and Pandas:** Explore datasets, analyze trends, and create visualizations. This offers a glimpse into the exciting world of data analysis.\n",
      "\n",
      "**Intermediate:**\n",
      "\n",
      "* **Develop a command-line tool for a specific task:** Automate repetitive tasks like file manipulation, data processing, or system management. This teaches you about scripting, input/output handling, and working with libraries.\n",
      "* **Contribute to an open-source project:** Find a project that interests you on platforms like GitHub and start contributing by fixing bugs, adding features, or improving documentation. This provides valuable experience working collaboratively and learning from experienced developers.\n",
      "* **Build a chatbot using a language like Python and a chatbot framework:** Learn about natural language processing (NLP) and how to create interactive conversational agents. This project can be expanded to include other features like web scraping or data analysis.\n",
      "* **Create a simple machine learning model using Python and libraries like Scikit-learn:** Explore the power of machine learning by building models for tasks like image classification, sentiment analysis, or predictive analytics.\n",
      "\n",
      "**Advanced:**\n",
      "\n",
      "* **Build a full-fledged web application using frameworks like Django (Python) or Flask (Python):** This allows you to dive deeper into web development, including database integration, user authentication, and API development.\n",
      "* **Develop a game with a game engine like Unity or Unreal Engine:** Learn about 3D graphics, physics, and game design principles. This can be a challenging but rewarding experience.\n",
      "* **Explore cybersecurity and ethical hacking:** Learn about network security, vulnerability scanning, and penetration testing using tools like Metasploit and Kali Linux. This can lead to a career in cybersecurity or penetration testing.\n",
      "* **Work on a personal project you're passionate about:** This can be anything from a music player to a social networking platform. This project allows you to apply your skills creatively and push your limits.\n",
      "\n",
      "**Additional Tips:**\n",
      "\n",
      "* **Choose a language and stick with it:** Focus on learning one language well before jumping to others.\n",
      "* **Start with small projects and gradually increase complexity:** Don't try to build the next Facebook on your first try.\n",
      "* **Use online resources and communities:** There are countless tutorials, courses, and forums online to help you learn and get support.\n",
      "* **Don't be afraid to ask for help:** Ask teachers, mentors, or online communities for assistance when you get stuck.\n",
      "\n",
      "Remember, the key is to find a project that interests you and allows you to learn and grow. Have fun and enjoy the process!\n",
      "\n"
     ]
    }
   ],
   "source": [
    "prompt = \"I'm a high school student. Recommend me a programming activity to improve my skills.\"\n",
    "\n",
    "print(call_gemini(prompt))"
   ]
  },
  {
   "cell_type": "markdown",
   "metadata": {
    "id": "iAmm9wPYc_1o"
   },
   "source": [
    "#### Classification tasks reduces output variability"
   ]
  },
  {
   "cell_type": "markdown",
   "metadata": {
    "id": "VvRpK_0GdCpf"
   },
   "source": [
    "The prompt below results in a choice and may be useful if you want the output to be easier to control."
   ]
  },
  {
   "cell_type": "code",
   "execution_count": 19,
   "metadata": {
    "id": "kYDKh0r2dAqo",
    "tags": []
   },
   "outputs": [
    {
     "name": "stdout",
     "output_type": "stream",
     "text": [
      "It's great you're thinking about learning programming! All three languages have their uses, but for a high school student, I would recommend focusing on either **Python** or **JavaScript**. Here's why:\n",
      "\n",
      "**Python:**\n",
      "\n",
      "* **Beginner-friendly:** Python is known for its simple syntax and readability, making it easier to learn for beginners.\n",
      "* **Versatility:**  Python is widely used in various fields like web development, data science, machine learning, and scripting. \n",
      "* **Large community and resources:** Python has a huge and active community, providing lots of support, tutorials, and libraries.\n",
      "* **Excellent for projects:** Python's ease of use allows you to build fun and interesting projects quickly, boosting your motivation.\n",
      "\n",
      "**JavaScript:**\n",
      "\n",
      "* **Web development:** JavaScript is essential for building interactive and dynamic websites. It's the language of the web, making it highly valuable.\n",
      "* **Future-proof:** The demand for JavaScript developers is constantly growing, making it a promising career path.\n",
      "* **Interactive learning:** JavaScript is excellent for building games, animations, and other interactive elements, making the learning process more engaging.\n",
      "\n",
      "**Fortran:**\n",
      "\n",
      "* **Legacy language:** While still used in scientific and engineering applications, Fortran is a more traditional language with a steeper learning curve.\n",
      "* **Limited modern applications:** While Fortran remains relevant in specific domains, it's not as widely used or versatile as Python or JavaScript for broader applications.\n",
      "\n",
      "**Ultimately, the best choice for you depends on your interests:**\n",
      "\n",
      "* **Interested in data science, AI, or scripting?** Python is a great option.\n",
      "* **Want to create websites, games, or interactive web apps?** JavaScript is the way to go.\n",
      "\n",
      "**Tip:** \n",
      "\n",
      "* **Start with the language that appeals to you most.**  Enjoyment and motivation are key factors in successful learning.\n",
      "* **Explore online resources like Codecademy, Khan Academy, or FreeCodeCamp to get started.** They offer interactive courses and projects for beginners.\n",
      "\n",
      "Remember, learning to code is a journey, so be patient, persistent, and have fun! \n",
      "\n"
     ]
    }
   ],
   "source": [
    "prompt = \"\"\"I'm a high school student. Which of these activities do you suggest and why:\n",
    "a) learn Python\n",
    "b) learn JavaScript\n",
    "c) learn Fortran\n",
    "\"\"\"\n",
    "\n",
    "print(call_gemini(prompt))"
   ]
  },
  {
   "cell_type": "markdown",
   "metadata": {
    "id": "iTd60b1GdIsx"
   },
   "source": [
    "### Improve response quality by including examples"
   ]
  },
  {
   "cell_type": "markdown",
   "metadata": {
    "id": "yJi44NejdJYE"
   },
   "source": [
    "Another way to improve response quality is to add examples in your prompt. The LLM learns in-context from the examples on how to respond. Typically, one to five examples (shots) are enough to improve the quality of responses. Including too many examples can cause the model to over-fit the data and reduce the quality of responses.\n",
    "\n",
    "Similar to classical model training, the quality and distribution of the examples is very important. Pick examples that are representative of the scenarios that you need the model to learn, and keep the distribution of the examples (e.g. number of examples per class in the case of classification) aligned with your actual distribution."
   ]
  },
  {
   "cell_type": "markdown",
   "metadata": {
    "id": "sMbLginWdOKs"
   },
   "source": [
    "#### Zero-shot prompt"
   ]
  },
  {
   "cell_type": "markdown",
   "metadata": {
    "id": "Crh2Loi2dQ0v"
   },
   "source": [
    "Below is an example of zero-shot prompting, where you don't provide any examples to the LLM within the prompt itself."
   ]
  },
  {
   "cell_type": "code",
   "execution_count": 20,
   "metadata": {
    "id": "-7myRc-SdTQ4",
    "tags": []
   },
   "outputs": [
    {
     "name": "stdout",
     "output_type": "stream",
     "text": [
      "Sentiment: **Positive** \n",
      "\n"
     ]
    }
   ],
   "source": [
    "prompt = \"\"\"Decide whether a Tweet's sentiment is positive, neutral, or negative.\n",
    "\n",
    "Tweet: I loved the new YouTube video you made!\n",
    "Sentiment:\n",
    "\"\"\"\n",
    "\n",
    "print(call_gemini(prompt))"
   ]
  },
  {
   "cell_type": "markdown",
   "metadata": {
    "id": "ucRtPn9SdL64"
   },
   "source": [
    "#### One-shot prompt"
   ]
  },
  {
   "cell_type": "markdown",
   "metadata": {
    "id": "rs0gQH2vdYBi"
   },
   "source": [
    "Below is an example of one-shot prompting, where you provide one example to the LLM within the prompt to give some guidance on what type of response you want."
   ]
  },
  {
   "cell_type": "code",
   "execution_count": 21,
   "metadata": {
    "id": "iEq-KxGYdaT5",
    "tags": []
   },
   "outputs": [
    {
     "name": "stdout",
     "output_type": "stream",
     "text": [
      "Sentiment: **negative** \n",
      "\n"
     ]
    }
   ],
   "source": [
    "prompt = \"\"\"Decide whether a Tweet's sentiment is positive, neutral, or negative.\n",
    "\n",
    "Tweet: I loved the new YouTube video you made!\n",
    "Sentiment: positive\n",
    "\n",
    "Tweet: That was awful. Super boring 😠\n",
    "Sentiment:\n",
    "\"\"\"\n",
    "\n",
    "print(call_gemini(prompt))"
   ]
  },
  {
   "cell_type": "markdown",
   "metadata": {
    "id": "JnKLjJzmdfL_"
   },
   "source": [
    "#### Few-shot prompt"
   ]
  },
  {
   "cell_type": "markdown",
   "metadata": {
    "id": "6Zv-9F5OdgI_"
   },
   "source": [
    "Below is an example of few-shot prompting, where you provide a few examples to the LLM within the prompt to give some guidance on what type of response you want."
   ]
  },
  {
   "cell_type": "code",
   "execution_count": 22,
   "metadata": {
    "id": "u37P9tG4dk9S",
    "tags": []
   },
   "outputs": [
    {
     "name": "stdout",
     "output_type": "stream",
     "text": [
      "Sentiment: **positive** \n",
      "\n",
      "Here's why:\n",
      "\n",
      "* **\"Something surprised me\"** implies a positive experience.\n",
      "* **\"It was actually original\"** is a strong compliment.\n",
      "* **\"It was not the same old recycled stuff\"** further emphasizes the positive aspect of originality.\n",
      "* **\"Watch it - you will not regret it\"**  is a clear recommendation, suggesting a positive experience for others. \n",
      "\n"
     ]
    }
   ],
   "source": [
    "prompt = \"\"\"Decide whether a Tweet's sentiment is positive, neutral, or negative.\n",
    "\n",
    "Tweet: I loved the new YouTube video you made!\n",
    "Sentiment: positive\n",
    "\n",
    "Tweet: That was awful. Super boring 😠\n",
    "Sentiment: negative\n",
    "\n",
    "Tweet: Something surprised me about this video - it was actually original. It was not the same old recycled stuff that I always see. Watch it - you will not regret it.\n",
    "Sentiment:\n",
    "\"\"\"\n",
    "\n",
    "print(call_gemini(prompt))"
   ]
  },
  {
   "cell_type": "markdown",
   "metadata": {
    "id": "wDMD3xb2dvX6"
   },
   "source": [
    "#### Choosing between zero-shot, one-shot, few-shot prompting methods"
   ]
  },
  {
   "cell_type": "markdown",
   "metadata": {
    "id": "s92W0YpNdxJp"
   },
   "source": [
    "Which prompt technique to use will solely depends on your goal. The zero-shot prompts are more open-ended and can give you creative answers, while one-shot and few-shot prompts teach the model how to behave so you can get more predictable answers that are consistent with the examples provided."
   ]
  },
  {
   "cell_type": "code",
   "execution_count": null,
   "metadata": {},
   "outputs": [],
   "source": []
  }
 ],
 "metadata": {
  "colab": {
   "name": "intro_prompt_design.ipynb",
   "toc_visible": true
  },
  "environment": {
   "kernel": "conda-base-py",
   "name": "workbench-notebooks.m127",
   "type": "gcloud",
   "uri": "us-docker.pkg.dev/deeplearning-platform-release/gcr.io/workbench-notebooks:m127"
  },
  "kernelspec": {
   "display_name": "Python 3 (ipykernel) (Local)",
   "language": "python",
   "name": "conda-base-py"
  },
  "language_info": {
   "codemirror_mode": {
    "name": "ipython",
    "version": 3
   },
   "file_extension": ".py",
   "mimetype": "text/x-python",
   "name": "python",
   "nbconvert_exporter": "python",
   "pygments_lexer": "ipython3",
   "version": "3.10.16"
  }
 },
 "nbformat": 4,
 "nbformat_minor": 4
}
