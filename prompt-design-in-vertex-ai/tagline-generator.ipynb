{
 "cells": [
  {
   "cell_type": "code",
   "execution_count": 1,
   "id": "c1819f6b-02f3-40b2-97a3-73906e042be9",
   "metadata": {
    "tags": []
   },
   "outputs": [
    {
     "name": "stdout",
     "output_type": "stream",
     "text": [
      "Here\n",
      " are a few tagline options for \"Unleash Your Inner Explorer,\" keeping in\n",
      " mind the theme of encouraging young people to explore the outdoors:\n",
      "\n",
      "**Short &\n",
      " Catchy:**\n",
      "\n",
      "* **Roam Free.**\n",
      "* **Wild is Calling.** \n",
      "* **Adventure Within.**\n",
      "* **Find Your Wild.**\n",
      "\n",
      "\n",
      "**Motivational:**\n",
      "\n",
      "* **Discover Your Adventure.**\n",
      "* **Unleash Your Inner Explorer. Discover Your World.** \n",
      "* **Go Explore.\n",
      " Grow Wilder.**\n",
      "* **The Outdoors Await.  What Are You Waiting For?**\n",
      "\n",
      "**Benefit-Oriented:**\n",
      "\n",
      "* **Gear Up for Discovery.**\n",
      "* **Crafted for Young Explorers.**\n",
      "* **Making Memories,\n",
      " One Adventure at a Time.** \n",
      "\n",
      "**Wordplay:**\n",
      "\n",
      "* **Explmore.**  (Combination of Explore and More)\n",
      "* **Don't Just Grow Up, Grow Wild.**\n",
      "\n",
      "**Which tagline is best depends on the\n",
      " specific tone and target audience Cymbal Direct is aiming for.** \n",
      "\n"
     ]
    }
   ],
   "source": [
    "from vertexai.preview.generative_models import GenerativeModel\n",
    "\n",
    "model = GenerativeModel(\"gemini-1.5-pro\")\n",
    "\n",
    "prompt = \"\"\"\n",
    "Cymbal Direct is partnering with an outdoor gear retailer. They\\'re launching a new line of products designed to encourage young people to explore the outdoors. Help them create catchy taglines for this product line.\n",
    "\n",
    "input: Gear Up, Get Out!\n",
    "output: Adventure awaits.\n",
    "\n",
    "input: Explore the Wild\n",
    "output: Find your path.\n",
    "\n",
    "input: Unleash Your Inner Explorer\n",
    "output:\n",
    "\"\"\"\n",
    "\n",
    "responses = model.generate_content(\n",
    "    prompt,\n",
    "    generation_config={\n",
    "        \"temperature\": 1,\n",
    "        \"max_output_tokens\": 2048,\n",
    "        \"top_p\": 1.0,\n",
    "        \"top_k\": 40,\n",
    "    },\n",
    "    stream=True\n",
    ")\n",
    "\n",
    "for response in responses:\n",
    "    print(response.text)"
   ]
  },
  {
   "cell_type": "code",
   "execution_count": null,
   "id": "d4382724-d723-41b2-bdc5-850b7f961333",
   "metadata": {},
   "outputs": [],
   "source": []
  }
 ],
 "metadata": {
  "environment": {
   "kernel": "conda-base-py",
   "name": "workbench-notebooks.m127",
   "type": "gcloud",
   "uri": "us-docker.pkg.dev/deeplearning-platform-release/gcr.io/workbench-notebooks:m127"
  },
  "kernelspec": {
   "display_name": "Python 3 (ipykernel) (Local)",
   "language": "python",
   "name": "conda-base-py"
  },
  "language_info": {
   "codemirror_mode": {
    "name": "ipython",
    "version": 3
   },
   "file_extension": ".py",
   "mimetype": "text/x-python",
   "name": "python",
   "nbconvert_exporter": "python",
   "pygments_lexer": "ipython3",
   "version": "3.10.16"
  }
 },
 "nbformat": 4,
 "nbformat_minor": 5
}
